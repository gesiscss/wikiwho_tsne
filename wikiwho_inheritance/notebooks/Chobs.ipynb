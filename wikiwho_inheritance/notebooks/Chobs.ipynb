{
 "cells": [
  {
   "cell_type": "code",
   "execution_count": null,
   "metadata": {},
   "outputs": [],
   "source": [
    "import pandas as pd\n",
    "import numpy as np\n",
    "import os\n",
    "import ipywidgets as widgets\n",
    "from IPython.display import display\n",
    "import sys\n",
    "sys.path.append('/home/stankeaa/wikiwho_inheritance/')\n",
    "from sequencers import chobs"
   ]
  },
  {
   "cell_type": "markdown",
   "metadata": {},
   "source": [
    "## Chobjer\n",
    "This notebook creates a dataframe with chobs, merged with truth annotations\n",
    "It requires **article id** and a **path to existing pickle** <br>\n",
    "Input parameters:\n",
    "- context (max number of tokens in left and right context, int)\n",
    "- gap length (max number of tokens in gap, int)"
   ]
  },
  {
   "cell_type": "code",
   "execution_count": null,
   "metadata": {},
   "outputs": [],
   "source": [
    "\n",
    "article_id = widgets.Text(\n",
    "    value='39570',\n",
    "    description='Article id:'\n",
    ")\n",
    "pickle = widgets.Text(\n",
    "    value='../../bert',\n",
    "    description='Pickle path:'\n",
    ")\n",
    "truth = widgets.Text(\n",
    "    value='../../John_Logie_Baird_FULL.csv',\n",
    "    description='Annotations path:'\n",
    ")\n",
    "context = widgets.IntText(\n",
    "    value=5,\n",
    "    description='Context:'\n",
    ")\n",
    "gap_length = widgets.IntText(\n",
    "    value=20,\n",
    "    description='Gap length:'\n",
    ")\n",
    "display (article_id, pickle, truth, context, gap_length)"
   ]
  },
  {
   "cell_type": "code",
   "execution_count": null,
   "metadata": {},
   "outputs": [],
   "source": [
    "'''creating a chobjer\n",
    "Input parameters:\n",
    "    df : none\n",
    "    params: context and gap length\n",
    "    path : wikiwho_inheritance/ARTICLE_ID/chobs/\n",
    "Output:\n",
    "    dataframe with chobs (merged with annotations)\n",
    "'''\n",
    "\n",
    "\n",
    "\n",
    "if not os.path.exists('../'+article_id.value):\n",
    "    os.mkdir('../'+article_id.value+'/chobs/')\n",
    "c = chobs.Chobs(pd.DataFrame(), {'context':context.value, 'gap_length':gap_length.value}, '../'+article_id.value+'/chobs/')\n",
    "c.get_df(article_id = article_id.value, pickle_path = pickle.value, context = c.params.get('context'), gap_length = c.params.get('gap_length'))\n",
    "c.merge(truth.value)\n",
    "c.replace_tokens()\n",
    "c.save()"
   ]
  },
  {
   "cell_type": "code",
   "execution_count": null,
   "metadata": {},
   "outputs": [],
   "source": []
  }
 ],
 "metadata": {
  "kernelspec": {
   "display_name": "Python 3",
   "language": "python",
   "name": "python3"
  },
  "language_info": {
   "codemirror_mode": {
    "name": "ipython",
    "version": 3
   },
   "file_extension": ".py",
   "mimetype": "text/x-python",
   "name": "python",
   "nbconvert_exporter": "python",
   "pygments_lexer": "ipython3"
  }
 },
 "nbformat": 4,
 "nbformat_minor": 2
}
