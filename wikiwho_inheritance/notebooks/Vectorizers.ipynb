{
 "cells": [
  {
   "cell_type": "code",
   "execution_count": null,
   "metadata": {},
   "outputs": [],
   "source": [
    "import pandas as pd\n",
    "import pickle \n",
    "import numpy as np\n",
    "import os\n",
    "import sys\n",
    "sys.path.append('/home/stankeaa/wikiwho_inheritance/')\n",
    "from sequencers.vectorizers import bert_lr, bert_lrg, distilbert_lr, distilbert_lrg, word_embed \n",
    "import ipywidgets as widgets\n",
    "from IPython.display import display, clear_output\n",
    "import re\n",
    "from os.path import join"
   ]
  },
  {
   "cell_type": "code",
   "execution_count": null,
   "metadata": {},
   "outputs": [],
   "source": [
    "dirs = []\n",
    "for file in os.listdir( sys.path[-1] ):\n",
    "    if re.match(\"^[0-9_-]*$\", file):\n",
    "        dirs.append(file)\n",
    "vecs = ['bert_lr.Bert_LR', 'bert_lrg.Bert_LRG', 'distilbert_lr.Distilbert_LR', 'distilbert_lrg.Distilbert_LRG', \n",
    "        'word_embed.Word_Embed']"
   ]
  },
  {
   "cell_type": "markdown",
   "metadata": {},
   "source": [
    "## Vectorizers\n",
    "This notebook adds vector features to wikiwho chobs. It requires an **existing pickle** with processed chobs dataframe. <br>\n",
    "There are different vectorizers possible: <br>\n",
    "Bert (either only left and right context - Bert_LR - or left and right context with gap - Bert_LRG)<br>\n",
    "DistilBert (also with only context or with gap as well)<br>\n",
    "Word Embeddence with following parameters:\n",
    "1. word embeddence size (length of features vectors)\n",
    "2. use of gap\n",
    "3. context size (cannot be larger than in chobs dataframe)"
   ]
  },
  {
   "cell_type": "code",
   "execution_count": null,
   "metadata": {},
   "outputs": [],
   "source": [
    "a = widgets.Dropdown(\n",
    "    options = dirs,\n",
    "    value = None,\n",
    "    description = 'Article id:',\n",
    ")\n",
    "pickle = widgets.Dropdown(\n",
    "    options = [],\n",
    "    description = 'Chobs pickle:',\n",
    ")\n",
    "\n",
    "v = widgets.Dropdown(\n",
    "    options = vecs,\n",
    "    description = 'Vectorizer:',\n",
    ")\n",
    "word_embed_size = widgets.IntText(\n",
    "    value=300,\n",
    "    description='Word embed size:'\n",
    ")\n",
    "context = widgets.IntText(\n",
    "    value=5,\n",
    "    description='Context:'\n",
    ")\n",
    "use_gap = widgets.Checkbox(\n",
    "    value=True,\n",
    "    description='Use gap'\n",
    ")\n",
    "def a_on_change(change):\n",
    "    if change['type'] == 'change' and change['name'] == 'value':\n",
    "        pickle.options = os.listdir(sys.path[-1] + change['new'] + '/chobs/')\n",
    "        display(pickle, v)\n",
    "\n",
    "def v_on_change(change):\n",
    "    if change['type'] == 'change' and change['name'] == 'value':\n",
    "        global vectorizer\n",
    "        vectorizer = eval(v.value)\n",
    "        if change['new'] == 'word_embed.Word_Embed':\n",
    "            display(word_embed_size, use_gap, context)\n",
    "        else:\n",
    "            clear_output()\n",
    "            display(a, pickle, v)\n",
    "        print('Data is saved')\n",
    "            \n",
    "a.observe(a_on_change)            \n",
    "v.observe(v_on_change)\n",
    "display(a)"
   ]
  },
  {
   "cell_type": "code",
   "execution_count": null,
   "metadata": {},
   "outputs": [],
   "source": [
    "vectorizer = eval(v.value)\n",
    "PICKLE_PATH = sys.path[-1] + a.value + '/chobs/' + pickle.value\n",
    "\n",
    "if not os.path.exists('../'+a.value +'/vectorizers'):\n",
    "    os.mkdir('../'+a.value +'/vectorizers')\n",
    "if vectorizer == word_embed.Word_Embed:\n",
    "    model = vectorizer(pd.read_pickle(PICKLE_PATH), \n",
    "                       {'word_embed_size':word_embed_size.value, \n",
    "                              'use_gap':use_gap.value,\n",
    "                              'context':context.value,\n",
    "                       '_':pickle.value[:-4]}, \n",
    "                       '../'+a.value +'/vectorizers')\n",
    "else:\n",
    "    model = vectorizer(pd.read_pickle(PICKLE_PATH), {'_':pickle.value[:-4]}, '../'+a.value +'/vectorizers')\n",
    "model.get_features()\n",
    "model.save()"
   ]
  },
  {
   "cell_type": "code",
   "execution_count": null,
   "metadata": {},
   "outputs": [],
   "source": []
  }
 ],
 "metadata": {
  "kernelspec": {
   "display_name": "Python 3",
   "language": "python",
   "name": "python3"
  },
  "language_info": {
   "codemirror_mode": {
    "name": "ipython",
    "version": 3
   },
   "file_extension": ".py",
   "mimetype": "text/x-python",
   "name": "python",
   "nbconvert_exporter": "python",
   "pygments_lexer": "ipython3"
  }
 },
 "nbformat": 4,
 "nbformat_minor": 2
}
