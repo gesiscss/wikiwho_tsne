{
 "cells": [
  {
   "cell_type": "code",
   "execution_count": null,
   "metadata": {},
   "outputs": [],
   "source": [
    "import ipywidgets as widgets\n",
    "from IPython.display import display\n",
    "from IPython.display import clear_output\n",
    "import os\n",
    "import sys\n",
    "sys.path.append('/home/stankeaa/wikiwho_inheritance/')\n",
    "import pandas as pd\n",
    "import re"
   ]
  },
  {
   "cell_type": "code",
   "execution_count": null,
   "metadata": {},
   "outputs": [],
   "source": [
    "def getting_vectorizers(dirs):\n",
    "    dir_to_vecs = {}\n",
    "    for folder in dirs:\n",
    "        dir_to_vecs[folder] = os.listdir(sys.path[-1] + folder + '/clusterers/')[1:]\n",
    "    return dir_to_vecs\n",
    "\n",
    "def getting_pickles(vecs):\n",
    "    vecs_to_clusters = {}\n",
    "    for vectorizer in vecs:\n",
    "        path = sys.path[-1] + folder + '/clusterers/' + vectorizer + '/tsne/'\n",
    "        pickles = []\n",
    "        for dirpath, dirnames, files in os.walk(path):\n",
    "            for file_name in files:\n",
    "                pickles.append(file_name)\n",
    "        vecs_to_clusters[vectorizer] = pickles        \n",
    "    return vecs_to_clusters\n",
    "\n",
    "dirs = []\n",
    "for file in os.listdir( sys.path[-1] ):\n",
    "    if re.match(\"^[0-9_-]*$\", file):\n",
    "        dirs.append(file) # getting the chobs\n",
    "dir_to_vecs = getting_vectorizers(dirs) # getting the vectorizers\n",
    "for folder in dir_to_vecs:\n",
    "    vecs = dir_to_vecs[folder]\n",
    "    vecs_to_clusters = getting_pickles(vecs) # getting the clusterers (with tsne)\n",
    "        "
   ]
  },
  {
   "cell_type": "code",
   "execution_count": null,
   "metadata": {},
   "outputs": [],
   "source": [
    "def print_data(vectorizer,clusterizer):\n",
    "    if clusterizer is not None:\n",
    "        print('Downloaded data for {} vectorizer and {} clusterizer'.format(vectorizer, clusterizer[:-4])) \n",
    "    global vec, clu, df\n",
    "    vec, clu = vectorizer, clusterizer\n",
    "    df = pd.read_pickle(sys.path[-1] + d.value + '/clusterers/' + vec + '/tsne/' + clu)\n",
    "    \n",
    "def select_vec(folder):\n",
    "    v.options = dir_to_vecs[folder]\n",
    "\n",
    "#add in 'select clusterizer' function that looks in the new dictionary\n",
    "def select_clusterizer(vectorizer):\n",
    "    c.options = vecs_to_clusters[vectorizer]\n",
    "\n",
    "d = widgets.Dropdown(options=dir_to_vecs.keys())\n",
    "init = d.value\n",
    "v = widgets.Dropdown(options=dir_to_vecs[init])\n",
    "\n",
    "\n",
    "init2= v.value #new start value for vectorizer dropdown\n",
    "c = widgets.Dropdown(options=vecs_to_clusters[init2]) #define district dropdown widget\n",
    "\n",
    "j = widgets.interactive(print_data, vectorizer=v, clusterizer=c) #define clusterizer value\n",
    "i = widgets.interactive(select_vec, folder=d)\n",
    "k = widgets.interactive(select_clusterizer, vectorizer=v) #call everything together with new interactive\n",
    "\n",
    "display(i)\n",
    "display(j)"
   ]
  },
  {
   "cell_type": "code",
   "execution_count": null,
   "metadata": {},
   "outputs": [],
   "source": [
    "sys.path[-1] + d.value + '/clusterers/' + vec + '/tsne/' + clu"
   ]
  },
  {
   "cell_type": "code",
   "execution_count": null,
   "metadata": {},
   "outputs": [],
   "source": [
    "import plotly.io\n",
    "import plotly\n",
    "from plotly.offline import init_notebook_mode, iplot\n",
    "import plotly.graph_objs as go\n",
    "import random\n",
    "init_notebook_mode(connected=True)\n",
    "\n",
    "r = lambda: random.randint(0,255)\n",
    "plot_data = df.copy()\n",
    "if 'DBscan' in clu:\n",
    "    plot_data = plot_data[plot_data['clusters'] != -1].reset_index()\n",
    "if 't-SNE-X' not in plot_data.columns:\n",
    "    print('TSNE coordinates have not been added. Please run the desired clusterizer again in the corresponding notebook')\n",
    "else:\n",
    "    traces = []\n",
    "    for c in plot_data.clusters.unique():\n",
    "        trace = go.Scatter(\n",
    "            x=plot_data[plot_data[\"clusters\"]==c][\"t-SNE-X\"],\n",
    "            y=plot_data[plot_data[\"clusters\"]==c][\"t-SNE-Y\"],\n",
    "            mode = 'markers',\n",
    "            name = str(c),\n",
    "            marker = go.scatter.Marker(size=4, color='#%02X%02X%02X' % (r(),r(),r())),\n",
    "            showlegend = True,\n",
    "        )\n",
    "        traces.append(trace)\n",
    "\n",
    "    data = traces\n",
    "\n",
    "    # Plot and embed in ipython notebook\n",
    "    fname = '../' + d.value + '/figures/' + vec + clu[:-4] + '.html'\n",
    "\n",
    "    plotly.offline.iplot(data,image_width=1280, image_height=800, image='png', filename='plot_image')\n",
    "\n",
    "    plotly.offline.plot(data, filename=fname, auto_open=False,\n",
    "                        image_width=1280, image_height=800)\n",
    "                        #,image='png', image_filename='plot_image')"
   ]
  },
  {
   "cell_type": "markdown",
   "metadata": {},
   "source": [
    "## Lasso selection with a table view"
   ]
  },
  {
   "cell_type": "code",
   "execution_count": null,
   "metadata": {},
   "outputs": [],
   "source": [
    "import time\n",
    "import qgrid\n",
    "from ipywidgets import widgets, Output\n",
    "import pdb\n",
    "from IPython.display import display, clear_output\n",
    "qgrid.set_grid_option('maxVisibleRows', 5)\n",
    "\n",
    "if 't-SNE-X' not in plot_data.columns:\n",
    "    print('TSNE coordinates have not been added. Please run the desired clusterizer again in the corresponding notebook')\n",
    "else:\n",
    "    f = go.FigureWidget()\n",
    "    f.layout.dragmode = 'select'\n",
    "    DISPLAYED_TABLE_COLUMNS = [\"left_token_str\", \"right_token_str\", \"del_tokens_str\", \"ins_tokens_str\", \"clusters\"]\n",
    "\n",
    "    scatter = f.add_scatter(x = plot_data[\"t-SNE-X\"], y = plot_data[\"t-SNE-Y\"], mode = 'markers', \n",
    "                           marker=go.scatter.Marker(size=0, opacity=0),showlegend = False)\n",
    "\n",
    "\n",
    "    r = lambda: random.randint(0,255)\n",
    "    def selection_fn(trace,points,selector):\n",
    "        global sel_points, counter\n",
    "        sel_points = points\n",
    "        display(\"Finished: \" + str(len(points.point_inds)) + \" points selected\")\n",
    "\n",
    "    traces = []\n",
    "    for c in plot_data[\"clusters\"].unique():\n",
    "        # Create a trace\n",
    "        trace = go.Scatter(\n",
    "            x=plot_data[plot_data[\"clusters\"] == c][\"t-SNE-X\"],\n",
    "            y=plot_data[plot_data[\"clusters\"] == c][\"t-SNE-Y\"],\n",
    "            mode = 'markers',\n",
    "            name = str(c),\n",
    "            uid = str(c),\n",
    "            marker = go.scatter.Marker(size=4, color='#%02X%02X%02X' % (r(),r(),r())),\n",
    "\n",
    "            showlegend = True, \n",
    "        )\n",
    "\n",
    "        f.add_trace(trace)\n",
    "\n",
    "    scatter.on_selection(selection_fn)\n",
    "    display(f)"
   ]
  },
  {
   "cell_type": "code",
   "execution_count": null,
   "metadata": {},
   "outputs": [],
   "source": [
    "# Create a table FigureWidget that updates on selection from points in the scatter plot of f\n",
    "t = go.FigureWidget([go.Table(  \n",
    "    header=dict(values=DISPLAYED_TABLE_COLUMNS,             \n",
    "                \n",
    "                fill = dict(color='#C2D4FF'),\n",
    "                align = ['left'] * 5),\n",
    "    \n",
    "    cells=dict(values=[plot_data[col] for col in DISPLAYED_TABLE_COLUMNS],              \n",
    "               fill = dict(color='#F5F8FF'),\n",
    "               align = ['left'] * 5\n",
    "               ))])\n",
    "\n",
    "display(qgrid.show_grid(plot_data.loc[sel_points.point_inds, DISPLAYED_TABLE_COLUMNS]))"
   ]
  },
  {
   "cell_type": "markdown",
   "metadata": {},
   "source": [
    "## Nationality"
   ]
  },
  {
   "cell_type": "code",
   "execution_count": null,
   "metadata": {},
   "outputs": [],
   "source": [
    "r = lambda: random.randint(0,255)\n",
    "if 't-SNE-X' not in plot_data.columns:\n",
    "    print('TSNE coordinates have not been added. Please run the desired clusterizer again in the corresponding notebook')\n",
    "else:\n",
    "    traces = []\n",
    "    plot_data['opacity'] = 1\n",
    "    plot_data.loc[plot_data['nationality'].isna(), 'opacity'] = 0.1\n",
    "    for c in plot_data.clusters.unique():\n",
    "        if c!=-1:\n",
    "        # Create a trace\n",
    "            trace = go.Scatter(\n",
    "                x=plot_data[plot_data[\"clusters\"] == c][\"t-SNE-X\"],\n",
    "                y=plot_data[plot_data[\"clusters\"] == c][\"t-SNE-Y\"],\n",
    "                mode = 'markers',\n",
    "                name = str(c),\n",
    "                marker = go.scatter.Marker(size=4, color='#%02X%02X%02X' % (r(),r(),r()),opacity=plot_data.loc[plot_data[\"clusters\"]==c, \"opacity\"]),\n",
    "                showlegend = True\n",
    "            )\n",
    "        traces.append(trace)\n",
    "    data = traces\n",
    "    layout = go.Layout(dragmode = 'select')\n",
    "\n",
    "    fig = go.Figure(data=data, layout=layout)\n",
    "    fig.layout.dragmode = 'select'\n",
    "    fname = '../' + d.value + '/figures/nationality/' + vec + clu[:-4] + '.html'\n",
    "\n",
    "    # Plot and embed in ipython notebook\n",
    "    iplot(fig)\n",
    "    plotly.offline.plot(data, filename=fname, auto_open=False,\n",
    "                    image_width=1280, image_height=800)"
   ]
  },
  {
   "cell_type": "markdown",
   "metadata": {},
   "source": [
    "## Silhouette score"
   ]
  },
  {
   "cell_type": "code",
   "execution_count": null,
   "metadata": {},
   "outputs": [],
   "source": [
    "df_we = pd.read_pickle('../39570/clusterers/Word_Embed_word_embed_size_300_use_gap_True_context_5___Chobs_context_5_gap_length_20/tsne/Kmeans_random_state_42.pkl')\n",
    "df_bert = pd.read_pickle('../39570/clusterers/Bert_LR___Chobs_context_5_gap_length_20/tsne/Kmeans_random_state_42.pkl')\n",
    "df_distilbert = pd.read_pickle('../39570/clusterers/Distilbert_LR___Chobs_context_5_gap_length_20/tsne/Kmeans_random_state_42.pkl')"
   ]
  },
  {
   "cell_type": "code",
   "execution_count": null,
   "metadata": {},
   "outputs": [],
   "source": [
    "from sequencers.clusterers import kmeans\n",
    "k_we = kmeans.Kmeans(df_we, {}, '')\n",
    "features_we = k_we.transform_feat()\n",
    "k_b = kmeans.Kmeans(df_bert, {}, '')\n",
    "features_b = k_b.transform_feat()\n",
    "k_db = kmeans.Kmeans(df_distilbert, {}, '')\n",
    "features_db = k_db.transform_feat()"
   ]
  },
  {
   "cell_type": "code",
   "execution_count": null,
   "metadata": {},
   "outputs": [],
   "source": [
    "from sklearn.cluster import KMeans\n",
    "%matplotlib inline  \n",
    "from yellowbrick.cluster import SilhouetteVisualizer\n",
    "from yellowbrick.datasets import load_nfl\n",
    "import matplotlib.pyplot as plt\n",
    "\n",
    "\n",
    "# Instantiate the clustering model and visualizer\n",
    "model = KMeans(random_state=42)\n",
    "visualizer = SilhouetteVisualizer(model, colors='viridis')\n",
    "#plt.figure(figsize=(10,8))\n",
    "#plt.scatter(plot_data['t-SNE-X'], plot_data['t-SNE-Y'], s =10, c=plot_data['clusters'], cmap='viridis')\n",
    "print('Silhouette of Word Embeddence:')\n",
    "visualizer.fit(features_we) \n",
    "visualizer.show()    \n",
    "\n",
    "print('Silhouette of Bert:')\n",
    "model = KMeans(random_state=42)\n",
    "visualizer = SilhouetteVisualizer(model, colors='viridis')\n",
    "visualizer.fit(features_b) \n",
    "visualizer.show()    \n",
    "\n",
    "print('Silhouette of DistilBert:')\n",
    "model = KMeans(random_state=42)\n",
    "visualizer = SilhouetteVisualizer(model, colors='viridis')\n",
    "visualizer.fit(features_db) \n",
    "visualizer.show()    "
   ]
  },
  {
   "cell_type": "code",
   "execution_count": null,
   "metadata": {},
   "outputs": [],
   "source": []
  },
  {
   "cell_type": "markdown",
   "metadata": {},
   "source": []
  }
 ],
 "metadata": {
  "kernelspec": {
   "display_name": "Python 3",
   "language": "python",
   "name": "python3"
  },
  "language_info": {
   "codemirror_mode": {
    "name": "ipython",
    "version": 3
   },
   "file_extension": ".py",
   "mimetype": "text/x-python",
   "name": "python",
   "nbconvert_exporter": "python",
   "pygments_lexer": "ipython3"
  }
 },
 "nbformat": 4,
 "nbformat_minor": 2
}
