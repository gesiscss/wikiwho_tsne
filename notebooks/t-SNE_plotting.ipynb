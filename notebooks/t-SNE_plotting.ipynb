{
 "cells": [
  {
   "cell_type": "markdown",
   "metadata": {},
   "source": [
    "# Load data for plotting\n"
   ]
  },
  {
   "cell_type": "code",
   "execution_count": null,
   "metadata": {},
   "outputs": [],
   "source": [
    "import os\n",
    "os.chdir(\"/home/heuzerothp/wikiwho_tsne\")\n",
    "import pandas as pd\n",
    "\n",
    "plot_data = pd.read_csv(\"data/plotData_jlb_outer.csv\")\n",
    "\n",
    "\n",
    "from utils.vars import *\n",
    "\n",
    "%matplotlib inline\n",
    "\n",
    "import matplotlib.pyplot as plt"
   ]
  },
  {
   "cell_type": "markdown",
   "metadata": {},
   "source": [
    "# Visualization and plotting\n"
   ]
  },
  {
   "cell_type": "markdown",
   "metadata": {},
   "source": [
    "## Plot of t-SNEd data\n"
   ]
  },
  {
   "cell_type": "code",
   "execution_count": null,
   "metadata": {},
   "outputs": [],
   "source": [
    "fig = plt.figure(figsize=(18, 16), dpi= 80, facecolor='w', edgecolor='k')\n",
    "plt.scatter(plot_data[\"t-SNE-X\"], plot_data[\"t-SNE-Y\"], s=10)"
   ]
  },
  {
   "cell_type": "markdown",
   "metadata": {},
   "source": [
    "## Interactively returning IDs on MouseHover\n"
   ]
  },
  {
   "cell_type": "code",
   "execution_count": null,
   "metadata": {},
   "outputs": [],
   "source": [
    "%matplotlib inline\n",
    "from plotly.offline import init_notebook_mode, iplot\n",
    "import plotly.graph_objs as go\n",
    "import random\n",
    "\n",
    "\n",
    "\n",
    "# enable javascript support\n",
    "init_notebook_mode(connected=True)\n",
    "\n",
    "r = lambda: random.randint(0,255)\n",
    "\n",
    "traces = []\n",
    "for c in plot_data.cluster.unique():\n",
    "    \n",
    "    \n",
    "    \n",
    "    \n",
    "\n",
    "    # Create a trace\n",
    "    trace = go.Scatter(\n",
    "        x=plot_data[plot_data[\"cluster\"]==c][\"t-SNE-X\"],\n",
    "        \n",
    "        \n",
    "        y=plot_data[plot_data[\"cluster\"]==c][\"t-SNE-Y\"],\n",
    "        \n",
    "        \n",
    "        mode = 'markers',\n",
    "        name = str(c),\n",
    "        marker = go.scatter.Marker(size=4, color='#%02X%02X%02X' % (r(),r(),r())),\n",
    "        text = plot_data.index,\n",
    "        \n",
    "        showlegend = True,\n",
    "\n",
    "    )\n",
    "    traces.append(trace)\n",
    "\n",
    "data = traces\n",
    "\n",
    "# Plot and embed in ipython notebook\n",
    "iplot(data, filename='basic-scatter')"
   ]
  },
  {
   "cell_type": "markdown",
   "metadata": {},
   "source": [
    "## Plot colored depending of Nationality\n",
    "\n"
   ]
  },
  {
   "cell_type": "code",
   "execution_count": null,
   "metadata": {},
   "outputs": [],
   "source": [
    "%matplotlib inline\n",
    "from plotly.offline import init_notebook_mode, iplot\n",
    "import plotly.graph_objs as go\n",
    "\n",
    "# enable javascript support\n",
    "init_notebook_mode(connected=True)\n",
    "\n",
    "r = lambda: random.randint(0,255)\n",
    "\n",
    "traces = []\n",
    "for c in [\"Y\", \"N\", None]:\n",
    "    \n",
    "    if c is None:\n",
    "        trace = go.Scatter(\n",
    "            x=plot_data.loc[plot_data[\"nationality\"].isna(),\"t-SNE-X\"],\n",
    "            y=plot_data.loc[plot_data[\"nationality\"].isna(),\"t-SNE-Y\"],\n",
    "            mode = 'markers',\n",
    "            name = str(c),\n",
    "            marker = go.scatter.Marker(size=4, color='#%02X%02X%02X' % (r(),r(),r())),\n",
    "            text = plot_data.index,\n",
    "            \n",
    "            showlegend = True,\n",
    "        )\n",
    "    else:\n",
    "        # Create a trace\n",
    "        trace = go.Scatter(\n",
    "            x=plot_data.loc[plot_data[\"nationality\"]==c,\"t-SNE-X\"],\n",
    "            y=plot_data.loc[plot_data[\"nationality\"]==c,\"t-SNE-Y\"],\n",
    "            mode = 'markers',\n",
    "            name = str(c),\n",
    "            marker = go.scatter.Marker(size=4, color='#%02X%02X%02X' % (r(),r(),r())),\n",
    "            text = plot_data.index,\n",
    "            showlegend = True,\n",
    "        )\n",
    "    traces.append(trace)\n",
    "\n",
    "data = traces\n",
    "\n",
    "# Plot and embed in ipython notebook\n",
    "iplot(data, filename='basic-scatter')"
   ]
  },
  {
   "cell_type": "markdown",
   "metadata": {},
   "source": [
    "## Plot on Mouse Selection returning selected elements in qgrid table\n"
   ]
  },
  {
   "cell_type": "code",
   "execution_count": null,
   "metadata": {},
   "outputs": [],
   "source": [
    "DISPLAYED_TABLE_COLUMNS = [\"t-SNE-X\", \"t-SNE-Y\"]\n",
    "\n",
    "if GAP:\n",
    "    DISPLAYED_TABLE_COLUMNS.append(\"ins_tokens_str\")\n",
    "    DISPLAYED_TABLE_COLUMNS.append(\"del_tokens_str\")\n",
    "if LEFT_CONTEXT:\n",
    "    DISPLAYED_TABLE_COLUMNS.append(\"left_token_str\")\n",
    "if RIGHT_CONTEXT:\n",
    "    DISPLAYED_TABLE_COLUMNS.append(\"right_token_str\")"
   ]
  },
  {
   "cell_type": "code",
   "execution_count": null,
   "metadata": {},
   "outputs": [],
   "source": [
    "import pandas as pd\n",
    "import plotly.graph_objs as go\n",
    "import plotly.offline as po\n",
    "import numpy as np\n",
    "from ipywidgets import interactive, HBox, VBox\n",
    "po.init_notebook_mode()\n",
    "import time\n",
    "import qgrid\n",
    "qgrid.set_grid_option('maxVisibleRows', 5)\n",
    "\n",
    "import random\n",
    "\n",
    "import pdb\n",
    "\n",
    "f = go.FigureWidget()\n",
    "f.layout.dragmode = 'lasso'\n",
    "\n",
    "scatter = f.add_scatter(x = plot_data[\"t-SNE-X\"], y = plot_data[\"t-SNE-Y\"], mode = 'markers', \n",
    "                       marker=go.scatter.Marker(size=0, opacity=0),showlegend = False)\n",
    "\n",
    "\n",
    "r = lambda: random.randint(0,255)\n",
    "\n",
    "# Create a table FigureWidget that updates on selection from points in the scatter plot of f\n",
    "t = go.FigureWidget([go.Table(  \n",
    "    header=dict(values=DISPLAYED_TABLE_COLUMNS,             \n",
    "                \n",
    "                fill = dict(color='#C2D4FF'),\n",
    "                align = ['left'] * 5),\n",
    "    \n",
    "    cells=dict(values=[plot_data[col] for col in DISPLAYED_TABLE_COLUMNS],              \n",
    "               fill = dict(color='#F5F8FF'),\n",
    "               align = ['left'] * 5\n",
    "               ))])\n",
    "\n",
    "def selection_fn(trace,points,selector):   \n",
    "    with out:\n",
    "        clear_output()\n",
    "        #display(plot_data.loc[points.point_inds])\n",
    "        \n",
    "        display(qgrid.show_grid(plot_data.loc[points.point_inds, DISPLAYED_TABLE_COLUMNS]))\n",
    "    \n",
    "    t.data[0].cells.values = [plot_data.loc[points.point_inds][col] for col in DISPLAYED_TABLE_COLUMNS]\n",
    "\n",
    "traces = []\n",
    "for c in plot_data[\"cluster\"].unique():\n",
    "    # Create a trace\n",
    "    trace = go.Scatter(\n",
    "        x=plot_data[plot_data[\"cluster\"] == c][\"t-SNE-X\"],\n",
    "        y=plot_data[plot_data[\"cluster\"] == c][\"t-SNE-Y\"],\n",
    "        mode = 'markers',\n",
    "        name = str(c),\n",
    "        uid = str(c),\n",
    "        marker = go.scatter.Marker(size=4, color='#%02X%02X%02X' % (r(),r(),r())),\n",
    "        text = plot_data.index,\n",
    "        \n",
    "        showlegend = True, \n",
    "\n",
    "    )\n",
    "    trace.on_selection(selection_fn)\n",
    "    \n",
    "    f.add_trace(trace)\n",
    "\n",
    "    \n",
    "scatter.on_selection(selection_fn)\n",
    "\n",
    "from IPython.display import display, clear_output\n",
    "display(f)\n",
    "\n",
    "from ipywidgets import widgets, Output\n",
    "out = Output()\n",
    "display(out)"
   ]
  }
 ],
 "metadata": {
  "kernelspec": {
   "display_name": "Python 3",
   "language": "python",
   "name": "python3"
  },
  "language_info": {
   "codemirror_mode": {
    "name": "ipython",
    "version": 3
   },
   "file_extension": ".py",
   "mimetype": "text/x-python",
   "name": "python",
   "nbconvert_exporter": "python",
   "pygments_lexer": "ipython3",
   "version": "3.7.3"
  }
 },
 "nbformat": 4,
 "nbformat_minor": 2
}
