{
 "cells": [
  {
   "cell_type": "code",
   "execution_count": null,
   "metadata": {},
   "outputs": [],
   "source": [
    "\n",
    "\n",
    "import pandas as pd\n",
    "from wikiwho_chobj import Chobjer\n",
    "\n",
    "#import nltk\n",
    "#nltk.download(\"stopwords\")\n",
    "\n",
    "co = Chobjer(article=\"39570\", pickles_path='', lang='en', context=5)\n",
    "df = pd.DataFrame(co.iter_chobjs(), columns = next(co.iter_chobjs()).keys())\n",
    "\n",
    "#jlogie = pd.read_csv(\"../John_Logie_Baird_FULL.csv\")"
   ]
  },
  {
   "cell_type": "code",
   "execution_count": null,
   "metadata": {},
   "outputs": [],
   "source": [
    "jlogie = pd.read_csv(\"../../John_Logie_Baird_FULL.csv\")"
   ]
  },
  {
   "cell_type": "code",
   "execution_count": null,
   "metadata": {},
   "outputs": [],
   "source": [
    "import numpy as np\n",
    "\n",
    "def combine(chobj):\n",
    "    # to be called by an apply function on a dataframe of change objects as provided by wikiwho\n",
    "    # depends on jlogie as ground truth labels\n",
    "    boolean = jlogie[\"rev_id\"] == chobj[\"to_rev\"]\n",
    "    token = jlogie[boolean]    \n",
    "    if not token.empty and len(token) == 1:\n",
    "        which_jlogie = token[\"token_id\"].isin(chobj[\"ins_tokens\"])\n",
    "        if np.sum(which_jlogie) == 1:\n",
    "            to_merge = jlogie.iloc[which_jlogie.index[0]]\n",
    "            chobj[\"nationality\"] = to_merge[\"nationality\"]\n",
    "            chobj[\"birth_place\"] = to_merge[\"birth_place\"]\n",
    "            chobj[\"Link\"] = to_merge[\"Link\"]\n",
    "            chobj[\"Bulk\"] = to_merge[\"Bulk\"]\n",
    "            chobj[\"token\"] = to_merge[\"token\"]\n",
    "            chobj[\"action\"] = to_merge[\"action\"]\n",
    "            return chobj\n",
    "        elif np.sum(which_jlogie) > 1:\n",
    "            print(\"more than one row in jlogie found!\")\n",
    "            return pd.Series(None)\n",
    "        elif np.sum(which_jlogie) == 0:\n",
    "            chobj[\"nationality\"] = None\n",
    "            chobj[\"birth_place\"] = None\n",
    "            chobj[\"Link\"] = None\n",
    "            chobj[\"Bulk\"] = None\n",
    "            chobj[\"token\"] = None\n",
    "            chobj[\"action\"] = None\n",
    "            return chobj\n",
    "    elif not token.empty and len(token) > 1:\n",
    "        which_jlogie = token[\"token_id\"].isin(chobj[\"ins_tokens\"])\n",
    "        if np.sum(which_jlogie) == 1:\n",
    "            to_merge = jlogie.iloc[which_jlogie.index[0]]\n",
    "            chobj[\"nationality\"] = to_merge[\"nationality\"]\n",
    "            chobj[\"birth_place\"] = to_merge[\"birth_place\"]\n",
    "            chobj[\"Link\"] = to_merge[\"Link\"]\n",
    "            chobj[\"Bulk\"] = to_merge[\"Bulk\"]\n",
    "            chobj[\"token\"] = to_merge[\"token\"]\n",
    "            chobj[\"action\"] = to_merge[\"action\"]\n",
    "            return chobj\n",
    "        elif np.sum(which_jlogie) == 0:\n",
    "            chobj[\"nationality\"] = None\n",
    "            chobj[\"birth_place\"] = None\n",
    "            chobj[\"Link\"] = None\n",
    "            chobj[\"Bulk\"] = None\n",
    "            chobj[\"token\"] = None\n",
    "            chobj[\"action\"] = None\n",
    "            return chobj\n",
    "        elif np.sum(which_jlogie) > 1:\n",
    "            for col in [\"nationality\", \"birth_place\", \"Link\", \"Bulk\"]:\n",
    "                if len(token[col].unique()) == 1:\n",
    "                    chobj[col] = list(token[col])[0]\n",
    "                else:\n",
    "                    chobj[col] = None\n",
    "                    print(\"non congruent values found for df['to_rev'] == \", str(chobj[\"to_rev\"]), \" and token ids: \", list(token[\"token_id\"]), \" in jlogie. Setting None to column \", str(col))\n",
    "            return chobj\n",
    "        return pd.Series(None)\n",
    "    else:\n",
    "        chobj[\"nationality\"] = None\n",
    "        chobj[\"birth_place\"] = None\n",
    "        chobj[\"Link\"] = None\n",
    "        chobj[\"Bulk\"] = None\n",
    "        chobj[\"token\"] = None\n",
    "        chobj[\"action\"] = None\n",
    "        return chobj\n",
    "\n",
    "merged = df.apply(lambda x: combine(x), axis=1)\n",
    "merged = merged.dropna(how=\"all\")"
   ]
  },
  {
   "cell_type": "code",
   "execution_count": null,
   "metadata": {},
   "outputs": [],
   "source": [
    "len(merged)"
   ]
  },
  {
   "cell_type": "code",
   "execution_count": null,
   "metadata": {},
   "outputs": [],
   "source": [
    "len(df)"
   ]
  },
  {
   "cell_type": "markdown",
   "metadata": {},
   "source": [
    "##  Embed words by creating a vector of length 300 for each inserted and deleted tokens, so the resulting vector for one change object has length 600"
   ]
  },
  {
   "cell_type": "code",
   "execution_count": null,
   "metadata": {},
   "outputs": [],
   "source": [
    "import io\n",
    "\n",
    "def load_vectors(fname):\n",
    "    fin = io.open(fname, 'r', encoding='utf-8', newline='\\n', errors='ignore')\n",
    "    n, d = map(int, fin.readline().split())\n",
    "    data = {}\n",
    "    for line in fin:\n",
    "        tokens = line.rstrip().split(' ')\n",
    "        data[tokens[0]] = map(float, tokens[1:])\n",
    "    return data\n",
    "\n",
    "embed = load_vectors('../../wiki-news-300d-1M-subword.vec')"
   ]
  },
  {
   "cell_type": "code",
   "execution_count": null,
   "metadata": {},
   "outputs": [],
   "source": [
    "from nltk.corpus import stopwords\n",
    "import numpy as np\n",
    "from gensim.sklearn_api import W2VTransformer\n",
    "from gensim.models import KeyedVectors\n",
    "from copy import deepcopy\n",
    "import pdb\n",
    "\n",
    "WORD_EMBED_SIZE = 300\n",
    "LEFT_CONTEXT = 5\n",
    "RIGHT_CONTEXT = 5\n",
    "GAP = True\n",
    "\n",
    "def transform(phrase : list, embedding):\n",
    "    li_vecs = []\n",
    "    for i in range(len(phrase)):\n",
    "        if phrase[i] in embedding:\n",
    "            li_vecs.append(list(deepcopy(embedding[phrase[i]])))\n",
    "    if len(li_vecs) != 0:\n",
    "        vecs = np.stack(li_vecs)\n",
    "        return vecs            \n",
    "    else:\n",
    "        return None\n",
    "\n",
    "def filter_stopwords(phrase):\n",
    "    important_words = []\n",
    "    for word in phrase:\n",
    "        if word not in stopwords.words('english'):\n",
    "            important_words.append(word)\n",
    "    return important_words\n",
    "\n",
    "def create_features(chobj, use_gap, left_context, right_context):\n",
    "    if left_context > 0:\n",
    "        left_wordvecs = transform(filter_stopwords(list(chobj[\"left_token_str\"][-left_context:])), embed)\n",
    "        if left_wordvecs is None:\n",
    "            left_wordvecs = np.full(WORD_EMBED_SIZE, 0)\n",
    "        else:\n",
    "            left_wordvecs = np.mean(left_wordvecs, axis=0)\n",
    "    if right_context > 0:\n",
    "        right_wordvecs = transform(filter_stopwords(list(chobj[\"right_token_str\"][:right_context])), embed)  \n",
    "        if right_wordvecs is None:\n",
    "            right_wordvecs = np.full(WORD_EMBED_SIZE, 0)\n",
    "        else:\n",
    "            right_wordvecs = np.mean(right_wordvecs, axis=0)\n",
    "    if use_gap:\n",
    "        ins_wordvecs = transform(filter_stopwords(list(chobj[\"ins_tokens_str\"])), embed)     \n",
    "        del_wordvecs = transform(filter_stopwords(list(chobj[\"del_tokens_str\"])), embed)\n",
    "        if ins_wordvecs is None:\n",
    "            ins_wordvecs = np.full(WORD_EMBED_SIZE, 0)\n",
    "        else:\n",
    "            ins_wordvecs = np.mean(ins_wordvecs, axis=0)\n",
    "        if del_wordvecs is None:\n",
    "            del_wordvecs = np.full(WORD_EMBED_SIZE, 0)\n",
    "        else:\n",
    "            del_wordvecs = np.mean(del_wordvecs, axis=0)\n",
    "    \n",
    "    li = []\n",
    "    for a in [\"left_wordvecs\", \"right_wordvecs\", \"ins_wordvecs\", \"del_wordvecs\"]:\n",
    "        if a in vars():\n",
    "            li.append(vars()[a])\n",
    "    \n",
    "    try:\n",
    "        feat = pd.Series(np.nan_to_num(np.concatenate(li)))\n",
    "    except ValueError:\n",
    "        pdb.set_trace()\n",
    "    \n",
    "    return feat\n",
    "\n",
    "Embedded = df.apply(lambda x: create_features(x, use_gap=GAP, left_context=LEFT_CONTEXT, right_context=RIGHT_CONTEXT), \n",
    "                        axis=1)"
   ]
  },
  {
   "cell_type": "markdown",
   "metadata": {},
   "source": [
    "## K-means clustering"
   ]
  },
  {
   "cell_type": "code",
   "execution_count": null,
   "metadata": {},
   "outputs": [],
   "source": [
    "from sklearn.cluster import KMeans\n",
    "\n",
    "clusterer = KMeans(max_iter=3000, random_state=42)\n",
    "clusters = clusterer.fit_predict(Embedded)"
   ]
  },
  {
   "cell_type": "code",
   "execution_count": null,
   "metadata": {},
   "outputs": [],
   "source": [
    "pd.Series(clusters).unique()"
   ]
  },
  {
   "cell_type": "markdown",
   "metadata": {},
   "source": [
    "## Visualization and plotting"
   ]
  },
  {
   "cell_type": "code",
   "execution_count": null,
   "metadata": {},
   "outputs": [],
   "source": [
    "from sklearn.manifold import TSNE\n",
    "\n",
    "X = TSNE(random_state=42).fit_transform(Embedded)\n",
    "\n",
    "%matplotlib inline\n",
    "import matplotlib.pyplot as plt"
   ]
  },
  {
   "cell_type": "code",
   "execution_count": null,
   "metadata": {},
   "outputs": [],
   "source": [
    "import random\n",
    "\n",
    "def convert_editors_to_colors(editors):\n",
    "    ed_col = {}\n",
    "    col_list = []\n",
    "    for ed in editors:\n",
    "        if ed in ed_col:\n",
    "            col_list.append(ed_col[ed])\n",
    "        else:\n",
    "            r = lambda: random.randint(0,255)\n",
    "            new_col = '#%02X%02X%02X' % (r(),r(),r())\n",
    "            ed_col[ed] = new_col\n",
    "            col_list.append(new_col)\n",
    "            \n",
    "    return col_list"
   ]
  },
  {
   "cell_type": "code",
   "execution_count": null,
   "metadata": {},
   "outputs": [],
   "source": [
    "fig = plt.figure(figsize=(18, 16), dpi= 80, facecolor='w', edgecolor='k')\n",
    "plt.scatter(X[:,0], X[:,1], s=10)"
   ]
  },
  {
   "cell_type": "markdown",
   "metadata": {},
   "source": [
    "### interactively"
   ]
  },
  {
   "cell_type": "code",
   "execution_count": null,
   "metadata": {},
   "outputs": [],
   "source": [
    "%matplotlib inline\n",
    "from plotly.offline import init_notebook_mode, iplot\n",
    "import plotly.graph_objs as go\n",
    "\n",
    "# enable javascript support\n",
    "init_notebook_mode(connected=True)\n",
    "\n",
    "r = lambda: random.randint(0,255)\n",
    "\n",
    "traces = []\n",
    "for c in pd.Series(clusters).unique():\n",
    "    \n",
    "\n",
    "    # Create a trace\n",
    "    trace = go.Scatter(\n",
    "        x=X[clusters==c,0],\n",
    "        y=X[clusters==c,1],\n",
    "        mode = 'markers',\n",
    "        name = str(c),\n",
    "        marker = go.scatter.Marker(size=4, color='#%02X%02X%02X' % (r(),r(),r())),\n",
    "        text = Embedded.index,\n",
    "        showlegend = True,\n",
    "\n",
    "    )\n",
    "    traces.append(trace)\n",
    "\n",
    "data = traces\n",
    "\n",
    "# Plot and embed in ipython notebook\n",
    "iplot(data, filename='basic-scatter')"
   ]
  },
  {
   "cell_type": "code",
   "execution_count": null,
   "metadata": {},
   "outputs": [],
   "source": [
    "%matplotlib inline\n",
    "from plotly.offline import init_notebook_mode, iplot\n",
    "import plotly.graph_objs as go\n",
    "\n",
    "# enable javascript support\n",
    "init_notebook_mode(connected=True)\n",
    "\n",
    "r = lambda: random.randint(0,255)\n",
    "\n",
    "traces = []\n",
    "for c in [\"Y\", \"N\", None]:\n",
    "    \n",
    "    if c is None:\n",
    "        trace = go.Scatter(\n",
    "            x=X[merged[\"nationality\"].isna(),0],\n",
    "            y=X[merged[\"nationality\"].isna(),1],\n",
    "            mode = 'markers',\n",
    "            name = str(c),\n",
    "            marker = go.scatter.Marker(size=4, color='#%02X%02X%02X' % (r(),r(),r())),\n",
    "            text = Embedded.index,\n",
    "            showlegend = True,\n",
    "        )\n",
    "    else:\n",
    "        # Create a trace\n",
    "        trace = go.Scatter(\n",
    "            x=X[merged[\"nationality\"]==c,0],\n",
    "            y=X[merged[\"nationality\"]==c,1],\n",
    "            mode = 'markers',\n",
    "            name = str(c),\n",
    "            marker = go.scatter.Marker(size=4, color='#%02X%02X%02X' % (r(),r(),r())),\n",
    "            text = Embedded.index,\n",
    "            showlegend = True,\n",
    "        )\n",
    "    traces.append(trace)\n",
    "\n",
    "data = traces\n",
    "\n",
    "# Plot and embed in ipython notebook\n",
    "iplot(data, filename='basic-scatter')"
   ]
  },
  {
   "cell_type": "code",
   "execution_count": null,
   "metadata": {},
   "outputs": [],
   "source": [
    "None is None"
   ]
  },
  {
   "cell_type": "code",
   "execution_count": null,
   "metadata": {},
   "outputs": [],
   "source": [
    "merged[\"nationality\"].unique"
   ]
  },
  {
   "cell_type": "code",
   "execution_count": null,
   "metadata": {},
   "outputs": [],
   "source": [
    "np.sum(Embedded.loc[[386, 626, 774, 75, 331]] <= 0, axis=1)"
   ]
  },
  {
   "cell_type": "code",
   "execution_count": null,
   "metadata": {},
   "outputs": [],
   "source": []
  },
  {
   "cell_type": "code",
   "execution_count": null,
   "metadata": {},
   "outputs": [],
   "source": [
    "Embedded.shape"
   ]
  },
  {
   "cell_type": "code",
   "execution_count": null,
   "metadata": {},
   "outputs": [],
   "source": [
    "np.sum(np.sum(Embedded.iloc[:,600:1200] == 0.5, axis=1) == 600)"
   ]
  },
  {
   "cell_type": "code",
   "execution_count": null,
   "metadata": {},
   "outputs": [],
   "source": [
    "df.loc[1179][\"ins_tokens_str\"]"
   ]
  },
  {
   "cell_type": "code",
   "execution_count": null,
   "metadata": {},
   "outputs": [],
   "source": [
    "len(df)"
   ]
  }
 ],
 "metadata": {
  "kernelspec": {
   "display_name": "Python 3",
   "language": "python",
   "name": "python3"
  },
  "language_info": {
   "codemirror_mode": {
    "name": "ipython",
    "version": 3
   },
   "file_extension": ".py",
   "mimetype": "text/x-python",
   "name": "python",
   "nbconvert_exporter": "python",
   "pygments_lexer": "ipython3",
   "version": "3.7.0"
  }
 },
 "nbformat": 4,
 "nbformat_minor": 2
}
