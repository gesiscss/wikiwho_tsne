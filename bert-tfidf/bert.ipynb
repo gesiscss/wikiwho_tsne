{
 "cells": [
  {
   "cell_type": "code",
   "execution_count": null,
   "metadata": {},
   "outputs": [],
   "source": [
    "import pandas as pd\n",
    "from wikiwho_chobj import Chobjer\n",
    "\n",
    "context = 10\n",
    "co = Chobjer(article=\"39570\", pickles_path='../../bert', lang='en', context=context)\n",
    "df_all = pd.DataFrame(co.iter_chobjs(), columns = next(co.iter_chobjs()).keys())"
   ]
  },
  {
   "cell_type": "code",
   "execution_count": null,
   "metadata": {},
   "outputs": [],
   "source": [
    "from nltk.corpus import stopwords \n",
    "nltk.download(\"stopwords\")\n",
    "stop_words = set(stopwords.words('english'))"
   ]
  },
  {
   "cell_type": "code",
   "execution_count": null,
   "metadata": {},
   "outputs": [],
   "source": [
    "import sys\n",
    "sys.path.insert(1, '../utils/')\n",
    "from merge import combine\n",
    "\n",
    "df=df_all[(df_all['ins_tokens_str'].str.len() + df_all['del_tokens_str'].str.len()) <= 20]\n",
    "jlogie = pd.read_csv(\"../../John_Logie_Baird_FULL.csv\")\n",
    "merged = df.apply(lambda x: combine(x, jlogie), axis=1)\n",
    "\n",
    "# captures if we also want to use changeobjects that do not have tokens that are ground-truth labelled\n",
    "OUTER_JOIN = True\n",
    "\n",
    "merged = merged.dropna(how=\"all\")\n",
    "if not OUTER_JOIN:\n",
    "    merged = merged[(merged[\"birth_place\"].isna() & merged[\"Bulk\"].isna() & merged[\"nationality\"].isna() & merged[\"Link\"].isna())== False]"
   ]
  },
  {
   "cell_type": "code",
   "execution_count": null,
   "metadata": {},
   "outputs": [],
   "source": [
    "def making_list(tokens):\n",
    "    new_tokens = []\n",
    "    for item in tokens:\n",
    "        new_tokens.append(' '.join(word for word in item if not word in stop_words))\n",
    "                          #.replace('[[', '').replace(']]', '').replace('}}', '').replace('{{', '').replace('–', ''))\n",
    "\n",
    "    return(new_tokens)\n",
    "\n",
    "\n",
    "all_tokens = []\n",
    "for i, row in merged.iterrows():\n",
    "    all_tokens.append(making_list([row['left_token_str'],row['right_token_str']]))#,row['ins_tokens_str'],row['del_tokens_str']]))\n",
    "# for i, row in df.iterrows():\n",
    "#     all_tokens.append(making_list([row['left_token_str'],row['right_token_str']]))#,row['ins_tokens_str'],row['del_tokens_str']]))"
   ]
  },
  {
   "cell_type": "code",
   "execution_count": null,
   "metadata": {},
   "outputs": [],
   "source": [
    "from bert_serving.client import BertClient\n",
    "import numpy as np\n",
    "bc = BertClient()\n",
    "c = 0\n",
    "features = pd.DataFrame()\n",
    "for row in all_tokens:\n",
    "    vector=[]\n",
    "    for token in row:\n",
    "        if token.isspace() or token == '':\n",
    "            vector.append(np.full((1, 768), 0))\n",
    "        else:\n",
    "            vector.append(bc.encode([token]))\n",
    "\n",
    "    new_vector = np.concatenate((vector[0], vector[1]#, vector[2], vector[3]\n",
    "                                ),axis = 1)\n",
    "    features = features.append(pd.DataFrame(new_vector[0]).T)  \n",
    "    c+=1"
   ]
  },
  {
   "cell_type": "code",
   "execution_count": null,
   "metadata": {},
   "outputs": [],
   "source": [
    "from sklearn.cluster import KMeans\n",
    "\n",
    "clusterer = KMeans(random_state=42)\n",
    "clusters = clusterer.fit_predict(features)"
   ]
  },
  {
   "cell_type": "code",
   "execution_count": null,
   "metadata": {},
   "outputs": [],
   "source": [
    "pd.Series(clusters).unique()"
   ]
  },
  {
   "cell_type": "code",
   "execution_count": null,
   "metadata": {},
   "outputs": [],
   "source": [
    "from sklearn.manifold import TSNE\n",
    "\n",
    "\n",
    "X = TSNE(random_state=42).fit_transform(features)"
   ]
  },
  {
   "cell_type": "code",
   "execution_count": null,
   "metadata": {},
   "outputs": [],
   "source": [
    "plot_data = pd.concat([pd.DataFrame(X), pd.Series(clusters), merged], axis=1)\n",
    "\n",
    "plot_data.columns = ['t-SNE-X', 't-SNE-Y', 'cluster', 'Bulk',\n",
    "                  'Link',          'action',     'birth_place',\n",
    "           'del_end_pos',   'del_start_pos',      'del_tokens',\n",
    "        'del_tokens_str',          'editor',        'from_rev',\n",
    "        'from_timestamp',     'ins_end_pos',   'ins_start_pos',\n",
    "            'ins_tokens',  'ins_tokens_str',      'left_neigh',\n",
    "            'left_token',  'left_token_str',     'nationality',\n",
    "               'page_id',     'right_neigh',     'right_token',\n",
    "       'right_token_str',            'text',          'to_rev',\n",
    "          'to_timestamp',           'token']     "
   ]
  },
  {
   "cell_type": "code",
   "execution_count": null,
   "metadata": {},
   "outputs": [],
   "source": [
    "import matplotlib.pyplot as plt\n",
    "%matplotlib inline\n",
    "fig = plt.figure(figsize=(16, 10), dpi= 80, facecolor='w', edgecolor='k')\n",
    "plt.scatter(plot_data[\"t-SNE-X\"], plot_data[\"t-SNE-Y\"], s=10)"
   ]
  },
  {
   "cell_type": "markdown",
   "metadata": {},
   "source": [
    "## tSNE k-means"
   ]
  },
  {
   "cell_type": "code",
   "execution_count": null,
   "metadata": {},
   "outputs": [],
   "source": [
    "import plotly.io\n",
    "from plotly.offline import init_notebook_mode, iplot\n",
    "import plotly.graph_objs as go\n",
    "import random\n",
    "\n",
    "init_notebook_mode(connected=True)\n",
    "\n",
    "r = lambda: random.randint(0,255)\n",
    "\n",
    "traces = []\n",
    "for c in plot_data.cluster.unique():\n",
    "    \n",
    "   # Create a trace\n",
    "    trace = go.Scatter(\n",
    "        x=plot_data[plot_data[\"cluster\"]==c][\"t-SNE-X\"],\n",
    "        \n",
    "        \n",
    "        y=plot_data[plot_data[\"cluster\"]==c][\"t-SNE-Y\"],\n",
    "        \n",
    "        \n",
    "        mode = 'markers',\n",
    "        name = str(c),\n",
    "        marker = go.scatter.Marker(size=4, color='#%02X%02X%02X' % (r(),r(),r())),\n",
    "        text = plot_data.index,\n",
    "        \n",
    "        showlegend = True,\n",
    "\n",
    "    )\n",
    "    traces.append(trace)\n",
    "\n",
    "data = traces\n",
    "\n",
    "# Plot and embed in ipython notebook\n",
    "sys.path.insert(1, '../bert-tfidf/graphs')\n",
    "iplot(data, filename='kmeans_context_10',image='png', image_height = 500, image_width = 700) \n",
    "#plotly.io.write_image(\"../bert-tfidf/graphs/kmeans-context_\", context, \".png\")"
   ]
  },
  {
   "cell_type": "markdown",
   "metadata": {},
   "source": [
    "## Nationality"
   ]
  },
  {
   "cell_type": "code",
   "execution_count": null,
   "metadata": {},
   "outputs": [],
   "source": [
    "# enable javascript support\n",
    "init_notebook_mode(connected=True)\n",
    "\n",
    "r = lambda: random.randint(0,255)\n",
    "\n",
    "traces = []\n",
    "for c in [\"Y\", \"N\", None]:\n",
    "    \n",
    "    if c is None:\n",
    "        trace = go.Scatter(\n",
    "            x=plot_data.loc[plot_data[\"nationality\"].isna(),\"t-SNE-X\"],\n",
    "            y=plot_data.loc[plot_data[\"nationality\"].isna(),\"t-SNE-Y\"],\n",
    "            mode = 'markers',\n",
    "            name = str(c),\n",
    "            marker = go.scatter.Marker(size=4, color='#%02X%02X%02X' % (r(),r(),r())),\n",
    "            text = plot_data.index,\n",
    "            \n",
    "            showlegend = True,\n",
    "        )\n",
    "    else:\n",
    "        # Create a trace\n",
    "        trace = go.Scatter(\n",
    "            x=plot_data.loc[plot_data[\"nationality\"]==c,\"t-SNE-X\"],\n",
    "            y=plot_data.loc[plot_data[\"nationality\"]==c,\"t-SNE-Y\"],\n",
    "            mode = 'markers',\n",
    "            name = str(c),\n",
    "            marker = go.scatter.Marker(size=4, color='#%02X%02X%02X' % (r(),r(),r())),\n",
    "            text = plot_data.index,\n",
    "            showlegend = True,\n",
    "        )\n",
    "    traces.append(trace)\n",
    "\n",
    "data = traces\n",
    "\n",
    "# Plot and embed in ipython notebook\n",
    "iplot(data, filename='basic-scatter')"
   ]
  },
  {
   "cell_type": "markdown",
   "metadata": {},
   "source": [
    "## tSNE DBSCAN"
   ]
  },
  {
   "cell_type": "code",
   "execution_count": null,
   "metadata": {},
   "outputs": [],
   "source": [
    "from sklearn.cluster import DBSCAN\n",
    "from sklearn import metrics\n",
    "db = DBSCAN(eps=10, min_samples=8).fit(features)\n",
    "labels = db.labels_\n",
    "\n",
    "# Number of clusters in labels, ignoring noise if present.\n",
    "n_clusters_ = len(set(labels)) - (1 if -1 in labels else 0)\n",
    "n_noise_ = list(labels).count(-1)\n",
    "\n",
    "print('Estimated number of clusters: %d' % n_clusters_)\n",
    "print('Estimated number of noise points: %d' % n_noise_)"
   ]
  },
  {
   "cell_type": "code",
   "execution_count": null,
   "metadata": {},
   "outputs": [],
   "source": [
    "plot_data_dbscan = pd.concat([pd.DataFrame(X), pd.Series(labels), merged], axis=1)\n",
    "\n",
    "plot_data_dbscan.columns = ['t-SNE-X', 't-SNE-Y', 'db_cluster', 'Bulk',\n",
    "                  'Link',          'action',     'birth_place',\n",
    "           'del_end_pos',   'del_start_pos',      'del_tokens',\n",
    "        'del_tokens_str',          'editor',        'from_rev',\n",
    "        'from_timestamp',     'ins_end_pos',   'ins_start_pos',\n",
    "            'ins_tokens',  'ins_tokens_str',      'left_neigh',\n",
    "            'left_token',  'left_token_str',     'nationality',\n",
    "               'page_id',     'right_neigh',     'right_token',\n",
    "       'right_token_str',            'text',          'to_rev',\n",
    "          'to_timestamp',           'token']   "
   ]
  },
  {
   "cell_type": "code",
   "execution_count": null,
   "metadata": {},
   "outputs": [],
   "source": [
    "import plotly.io\n",
    "from plotly.offline import init_notebook_mode, iplot\n",
    "import plotly.graph_objs as go\n",
    "import random\n",
    "init_notebook_mode(connected=True)\n",
    "\n",
    "r = lambda: random.randint(0,255)\n",
    "\n",
    "traces = []\n",
    "for c in plot_data_dbscan.db_cluster.unique():\n",
    "    if c== -1:\n",
    "        trace = go.Scatter(\n",
    "            x=plot_data_dbscan[plot_data_dbscan[\"db_cluster\"]==c][\"t-SNE-X\"],\n",
    "            y=plot_data_dbscan[plot_data_dbscan[\"db_cluster\"]==c][\"t-SNE-Y\"],\n",
    "            mode = 'markers',\n",
    "            name = str(c),\n",
    "            marker = go.scatter.Marker(size=4, color='grey'),\n",
    "            text = plot_data_dbscan.index,\n",
    "            showlegend = True,\n",
    "        )\n",
    "    else:\n",
    "   # Create a trace\n",
    "        trace = go.Scatter(\n",
    "            x=plot_data_dbscan[plot_data_dbscan[\"db_cluster\"]==c][\"t-SNE-X\"],\n",
    "            y=plot_data_dbscan[plot_data_dbscan[\"db_cluster\"]==c][\"t-SNE-Y\"],\n",
    "            mode = 'markers',\n",
    "            name = str(c),\n",
    "            marker = go.scatter.Marker(size=4, color='#%02X%02X%02X' % (r(),r(),r())),\n",
    "            text = plot_data_dbscan.index,\n",
    "            showlegend = True,\n",
    "        )\n",
    "    traces.append(trace)\n",
    "\n",
    "data = traces\n",
    "\n",
    "# Plot and embed in ipython notebook\n",
    "sys.path.insert(1, '../bert-tfidf/graphs')\n",
    "iplot(data, filename='kmeans_context_10',image='png', image_height = 500, image_width = 700) \n",
    "#plotly.io.write_image(\"../bert-tfidf/graphs/kmeans-context_\", context, \".png\")"
   ]
  },
  {
   "cell_type": "code",
   "execution_count": null,
   "metadata": {},
   "outputs": [],
   "source": []
  }
 ],
 "metadata": {
  "kernelspec": {
   "display_name": "Python 3",
   "language": "python",
   "name": "python3"
  },
  "language_info": {
   "codemirror_mode": {
    "name": "ipython",
    "version": 3
   },
   "file_extension": ".py",
   "mimetype": "text/x-python",
   "name": "python",
   "nbconvert_exporter": "python",
   "pygments_lexer": "ipython3"
  }
 },
 "nbformat": 4,
 "nbformat_minor": 2
}
