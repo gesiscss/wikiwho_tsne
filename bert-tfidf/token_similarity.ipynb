{
 "cells": [
  {
   "cell_type": "code",
   "execution_count": null,
   "metadata": {},
   "outputs": [],
   "source": [
    "import pandas as pd\n",
    "import numpy as np"
   ]
  },
  {
   "cell_type": "code",
   "execution_count": null,
   "metadata": {},
   "outputs": [],
   "source": [
    "df = pd.read_pickle(\"../../wikiwho_inheritance/39570/chobs/Chobs_context_5_gap_length_20.pkl\")"
   ]
  },
  {
   "cell_type": "code",
   "execution_count": null,
   "metadata": {},
   "outputs": [],
   "source": [
    "INTERSECTION = 2\n",
    "def common_tokens(a, b, c, d, INTERSECTION): \n",
    "    if (len(set(a).intersection(set(b))) > INTERSECTION) and (len(set(c).intersection(set(d))) > INTERSECTION): \n",
    "        return(cluster)\n",
    "    return(np.nan)    \n",
    "\n",
    "global cluster\n",
    "cluster = 1\n",
    "df['cluster'] = np.nan\n",
    "for i in range(100):\n",
    "    if np.isnan(df.loc[i,'cluster']):\n",
    "        df.loc[i:100, 'cluster'] = df.apply(lambda token_id: common_tokens(df.loc[i,'right_token_str'], \n",
    "                                                                               token_id['right_token_str'], \n",
    "                                                                               df.loc[i,'left_token_str'],\n",
    "                                                                               token_id['left_token_str'], INTERSECTION), axis=1)\n",
    "        cluster += 1\n"
   ]
  },
  {
   "cell_type": "code",
   "execution_count": null,
   "metadata": {},
   "outputs": [],
   "source": [
    "df.head(100)"
   ]
  },
  {
   "cell_type": "code",
   "execution_count": null,
   "metadata": {},
   "outputs": [],
   "source": [
    "def common_tokens(a, b, c, d, INTERSECTION): \n",
    "    if (len(set(a).intersection(set(b))) > INTERSECTION) and (len(set(c).intersection(set(d))) > INTERSECTION): \n",
    "        return(True)\n",
    "    return(False)\n",
    "\n",
    "common_tokens(df.loc[18,'right_token_str'], df.loc[19,'right_token_str'],  df.loc[18,'left_token_str'], df.loc[19,'left_token_str'], INTERSECTION)"
   ]
  },
  {
   "cell_type": "code",
   "execution_count": null,
   "metadata": {},
   "outputs": [],
   "source": [
    "def common_tokens(a, b, c, d, INTERSECTION): \n",
    "    if (len(set(a).intersection(set(b))) > INTERSECTION) and (len(set(c).intersection(set(d))) > INTERSECTION): \n",
    "        return(True)\n",
    "    return(False)\n",
    "\n",
    "common_tokens(df.loc[18,'right_token'], df.loc[19,'right_token'],  df.loc[18,'left_token'], df.loc[19,'left_token'], INTERSECTION)"
   ]
  },
  {
   "cell_type": "code",
   "execution_count": null,
   "metadata": {},
   "outputs": [],
   "source": [
    "print(df.loc[18,'right_token_str'],'\\n', df.loc[19,'right_token_str'],  '\\n',df.loc[18,'left_token_str'],'\\n', df.loc[19,'left_token_str'])"
   ]
  },
  {
   "cell_type": "code",
   "execution_count": null,
   "metadata": {},
   "outputs": [],
   "source": [
    "print(df.loc[18,'right_token'],'\\n', df.loc[19,'right_token'],  '\\n',df.loc[18,'left_token'],'\\n', df.loc[19,'left_token'], df.loc[92, 'from_rev'], df.loc[93, 'from_rev'])"
   ]
  },
  {
   "cell_type": "code",
   "execution_count": null,
   "metadata": {},
   "outputs": [],
   "source": []
  }
 ],
 "metadata": {
  "kernelspec": {
   "display_name": "Python 3",
   "language": "python",
   "name": "python3"
  },
  "language_info": {
   "codemirror_mode": {
    "name": "ipython",
    "version": 3
   },
   "file_extension": ".py",
   "mimetype": "text/x-python",
   "name": "python",
   "nbconvert_exporter": "python",
   "pygments_lexer": "ipython3"
  }
 },
 "nbformat": 4,
 "nbformat_minor": 2
}
