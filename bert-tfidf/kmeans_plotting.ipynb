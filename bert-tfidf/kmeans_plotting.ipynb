{
 "cells": [
  {
   "cell_type": "code",
   "execution_count": null,
   "metadata": {},
   "outputs": [],
   "source": [
    "import sys\n",
    "\n",
    "import pandas as pd\n",
    "\n",
    "plot_data = pd.read_csv(\"plotData_bert_kmeans.csv\")\n",
    "\n",
    "sys.path.insert(1, '../utils/')\n",
    "from _vars import *\n",
    "\n",
    "%matplotlib inline\n",
    "\n",
    "import matplotlib.pyplot as plt"
   ]
  },
  {
   "cell_type": "code",
   "execution_count": null,
   "metadata": {},
   "outputs": [],
   "source": [
    "fig = plt.figure(figsize=(16, 10), dpi= 80, facecolor='w', edgecolor='k')\n",
    "plt.scatter(plot_data[\"t-SNE-X\"], plot_data[\"t-SNE-Y\"], s=10)"
   ]
  },
  {
   "cell_type": "markdown",
   "metadata": {},
   "source": [
    "## t-SNE K-means "
   ]
  },
  {
   "cell_type": "code",
   "execution_count": null,
   "metadata": {},
   "outputs": [],
   "source": [
    "import plotly.io\n",
    "from plotly.offline import init_notebook_mode, iplot\n",
    "import plotly.graph_objs as go\n",
    "import random\n",
    "\n",
    "init_notebook_mode(connected=True)\n",
    "\n",
    "r = lambda: random.randint(0,255)\n",
    "\n",
    "traces = []\n",
    "for c in plot_data.cluster.unique():\n",
    "    \n",
    "   # Create a trace\n",
    "    trace = go.Scatter(\n",
    "        x=plot_data[plot_data[\"cluster\"]==c][\"t-SNE-X\"],\n",
    "        \n",
    "        \n",
    "        y=plot_data[plot_data[\"cluster\"]==c][\"t-SNE-Y\"],\n",
    "        \n",
    "        \n",
    "        mode = 'markers',\n",
    "        name = str(c),\n",
    "        marker = go.scatter.Marker(size=4, color='#%02X%02X%02X' % (r(),r(),r())),\n",
    "        text = plot_data.index,\n",
    "        \n",
    "        showlegend = True,\n",
    "\n",
    "    )\n",
    "    traces.append(trace)\n",
    "\n",
    "data = traces\n",
    "\n",
    "# Plot and embed in ipython notebook\n",
    "sys.path.insert(1, '../bert-tfidf/graphs')\n",
    "iplot(data, filename='kmeans_context_10',image='png', image_height = 500, image_width = 700) "
   ]
  },
  {
   "cell_type": "markdown",
   "metadata": {},
   "source": [
    "## Nationality"
   ]
  },
  {
   "cell_type": "code",
   "execution_count": null,
   "metadata": {},
   "outputs": [],
   "source": [
    "# enable javascript support\n",
    "init_notebook_mode(connected=True)\n",
    "\n",
    "r = lambda: random.randint(0,255)\n",
    "\n",
    "traces = []\n",
    "for c in [\"Y\", \"N\", None]:\n",
    "    \n",
    "    if c is None:\n",
    "        trace = go.Scatter(\n",
    "            x=plot_data.loc[plot_data[\"nationality\"].isna(),\"t-SNE-X\"],\n",
    "            y=plot_data.loc[plot_data[\"nationality\"].isna(),\"t-SNE-Y\"],\n",
    "            mode = 'markers',\n",
    "            name = str(c),\n",
    "            marker = go.scatter.Marker(size=4, color='#%02X%02X%02X' % (r(),r(),r())),\n",
    "            text = plot_data.index,\n",
    "            \n",
    "            showlegend = True,\n",
    "        )\n",
    "    else:\n",
    "        # Create a trace\n",
    "        trace = go.Scatter(\n",
    "            x=plot_data.loc[plot_data[\"nationality\"]==c,\"t-SNE-X\"],\n",
    "            y=plot_data.loc[plot_data[\"nationality\"]==c,\"t-SNE-Y\"],\n",
    "            mode = 'markers',\n",
    "            name = str(c),\n",
    "            marker = go.scatter.Marker(size=4, color='#%02X%02X%02X' % (r(),r(),r())),\n",
    "            text = plot_data.index,\n",
    "            showlegend = True,\n",
    "        )\n",
    "    traces.append(trace)\n",
    "\n",
    "data = traces\n",
    "\n",
    "# Plot and embed in ipython notebook\n",
    "iplot(data, filename='basic-scatter')"
   ]
  },
  {
   "cell_type": "code",
   "execution_count": null,
   "metadata": {},
   "outputs": [],
   "source": []
  }
 ],
 "metadata": {
  "kernelspec": {
   "display_name": "Python 3",
   "language": "python",
   "name": "python3"
  },
  "language_info": {
   "codemirror_mode": {
    "name": "ipython",
    "version": 3
   },
   "file_extension": ".py",
   "mimetype": "text/x-python",
   "name": "python",
   "nbconvert_exporter": "python",
   "pygments_lexer": "ipython3"
  }
 },
 "nbformat": 4,
 "nbformat_minor": 2
}
