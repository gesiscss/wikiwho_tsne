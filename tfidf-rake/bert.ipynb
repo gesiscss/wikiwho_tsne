{
 "cells": [
  {
   "cell_type": "code",
   "execution_count": null,
   "metadata": {},
   "outputs": [],
   "source": [
    "import pandas as pd\n",
    "from wikiwho_chobj import Chobjer\n",
    "\n",
    "import nltk\n",
    "#nltk.download(\"stopwords\")\n",
    "\n",
    "co = Chobjer(article=\"39570\", pickles_path='../../bert', lang='en', context=5)\n",
    "df = pd.DataFrame(co.iter_chobjs(), columns = next(co.iter_chobjs()).keys())"
   ]
  },
  {
   "cell_type": "code",
   "execution_count": null,
   "metadata": {},
   "outputs": [],
   "source": [
    "df.head()"
   ]
  },
  {
   "cell_type": "code",
   "execution_count": null,
   "metadata": {},
   "outputs": [],
   "source": [
    "def making_list(tokens):\n",
    "    new_tokens = []\n",
    "    for item in tokens:\n",
    "        new_tokens.append(' '.join(word for word in item)\n",
    "                          .replace('[[', '').replace(']]', '').replace('}}', '').replace('{{', '').replace('–', ''))\n",
    "\n",
    "    return(new_tokens)\n",
    "\n",
    "all_tokens = []\n",
    "for i, row in df.iterrows():\n",
    "    all_tokens.append(making_list([row['left_token_str'],row['right_token_str'],row['ins_tokens_str'],row['del_tokens_str']]))"
   ]
  },
  {
   "cell_type": "code",
   "execution_count": null,
   "metadata": {},
   "outputs": [],
   "source": [
    "from bert_serving.client import BertClient\n",
    "bc = BertClient()\n",
    "feat = pd.DataFrame()\n",
    "c = 0\n",
    "features = pd.DataFrame(columns = list(range(vector[0].size*4)))\n",
    "for row in all_tokens:\n",
    "    vector=[]\n",
    "    for token in row:\n",
    "        if token.isspace() or token == '':\n",
    "            vector.append(np.full((1, 768), 0))\n",
    "        else:\n",
    "            vector.append(bc.encode([token]))\n",
    "    \n",
    "    \n",
    "    new_vector = np.concatenate((vector[0], vector[1], vector[2], vector[3]),axis = 1)\n",
    "    features = features.append(pd.DataFrame(new_vector[0]).T)\n",
    "    \n",
    "    c+=1\n"
   ]
  },
  {
   "cell_type": "code",
   "execution_count": null,
   "metadata": {},
   "outputs": [],
   "source": [
    "features"
   ]
  },
  {
   "cell_type": "code",
   "execution_count": null,
   "metadata": {},
   "outputs": [],
   "source": []
  }
 ],
 "metadata": {
  "kernelspec": {
   "display_name": "Python 3",
   "language": "python",
   "name": "python3"
  },
  "language_info": {
   "codemirror_mode": {
    "name": "ipython",
    "version": 3
   },
   "file_extension": ".py",
   "mimetype": "text/x-python",
   "name": "python",
   "nbconvert_exporter": "python",
   "pygments_lexer": "ipython3"
  }
 },
 "nbformat": 4,
 "nbformat_minor": 2
}
