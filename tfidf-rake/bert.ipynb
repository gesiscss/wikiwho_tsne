{
 "cells": [
  {
   "cell_type": "code",
   "execution_count": null,
   "metadata": {},
   "outputs": [],
   "source": [
    "import pandas as pd\n",
    "from wikiwho_chobj import Chobjer\n",
    "\n",
    "import nltk\n",
    "#nltk.download(\"stopwords\")\n",
    "\n",
    "co = Chobjer(article=\"39570\", pickles_path='../../bert', lang='en', context=5)\n",
    "df = pd.DataFrame(co.iter_chobjs(), columns = next(co.iter_chobjs()).keys())"
   ]
  },
  {
   "cell_type": "code",
   "execution_count": null,
   "metadata": {},
   "outputs": [],
   "source": [
    "df.shape"
   ]
  },
  {
   "cell_type": "code",
   "execution_count": null,
   "metadata": {},
   "outputs": [],
   "source": [
    "def making_list(tokens):\n",
    "    new_tokens = []\n",
    "    for item in tokens:\n",
    "        new_tokens.append(' '.join(word for word in item).replace('[[', '').replace(']]', '').replace('}}', '').replace('{{', '').replace('–', ''))\n",
    "    tokens=[]\n",
    "    for item in new_tokens:\n",
    "        if  not item.isspace() and item != '':\n",
    "            tokens.append(item)\n",
    "    return(tokens)\n",
    "\n",
    "left_tokens = making_list(list(df['left_token_str']))\n",
    "right_tokens = making_list(list(df['right_token_str']))\n",
    "ins_tokens = making_list(list(df['ins_tokens_str']))\n",
    "dels_tokens = making_list(list(df['del_tokens_str']))"
   ]
  },
  {
   "cell_type": "code",
   "execution_count": null,
   "metadata": {},
   "outputs": [],
   "source": [
    "from bert_serving.client import BertClient\n",
    "bc = BertClient()\n",
    "left_bert = bc.encode(left_tokens)\n",
    "right_bert = bc.encode(right_tokens)\n",
    "ins_bert = bc.encode(ins_tokens)\n",
    "dels_bert = bc.encode(dels_tokens)"
   ]
  },
  {
   "cell_type": "code",
   "execution_count": null,
   "metadata": {},
   "outputs": [],
   "source": [
    "import numpy as np\n",
    "li = []\n",
    "feat = pd.Series()\n",
    "for a in [\"left_bert\", \"right_bert\", \"ins_bert\", \"dels_bert\"]:\n",
    "    #feat = pd.concat([feat,pd.Series(vars()[a])], axis=1, sort=False)\n",
    "    print(type(vars()[a]))\n",
    "    #if a in vars():\n",
    "        #li.append(vars()[a])\n",
    "\n",
    "#feat = pd.Series(np.nan_to_num(np.concatenate(li)))\n"
   ]
  },
  {
   "cell_type": "code",
   "execution_count": null,
   "metadata": {},
   "outputs": [],
   "source": [
    "type(left_bert)"
   ]
  },
  {
   "cell_type": "code",
   "execution_count": null,
   "metadata": {},
   "outputs": [],
   "source": []
  }
 ],
 "metadata": {
  "kernelspec": {
   "display_name": "Python 3",
   "language": "python",
   "name": "python3"
  },
  "language_info": {
   "codemirror_mode": {
    "name": "ipython",
    "version": 3
   },
   "file_extension": ".py",
   "mimetype": "text/x-python",
   "name": "python",
   "nbconvert_exporter": "python",
   "pygments_lexer": "ipython3",
   "version": "3.7.0"
  }
 },
 "nbformat": 4,
 "nbformat_minor": 2
}
